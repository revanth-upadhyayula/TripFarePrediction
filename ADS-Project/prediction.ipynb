{
 "cells": [
  {
   "cell_type": "code",
   "execution_count": 1,
   "metadata": {},
   "outputs": [
    {
     "name": "stdout",
     "output_type": "stream",
     "text": [
      "Predicted Trip Fare: [587.58380151]\n"
     ]
    }
   ],
   "source": [
    "import pandas as pd\n",
    "from sklearn.ensemble import RandomForestRegressor\n",
    "from sklearn.feature_selection import SelectKBest, f_regression\n",
    "from sklearn.pipeline import Pipeline\n",
    "from sklearn.compose import ColumnTransformer\n",
    "from sklearn.preprocessing import StandardScaler, OneHotEncoder\n",
    "from sklearn.impute import SimpleImputer\n",
    "import joblib\n",
    "\n",
    "# Load the dataset\n",
    "data = pd.read_csv('uber_data.csv')\n",
    "\n",
    "# Convert 'payment_type' column to numeric, handling errors by coercing to NaN\n",
    "data['payment_type'] = pd.to_numeric(data['payment_type'], errors='coerce')\n",
    "\n",
    "# Drop rows with missing values\n",
    "data.dropna(inplace=True)\n",
    "\n",
    "# Define features and target variable\n",
    "X = data.drop(columns=['total_amount'])  # Features\n",
    "y = data['total_amount']  # Target variable\n",
    "\n",
    "# Define numerical and categorical features\n",
    "numeric_features = ['passenger_count', 'trip_distance']\n",
    "categorical_features = ['pickup_latitude', 'pickup_longitude', 'dropoff_latitude', 'dropoff_longitude']\n",
    "\n",
    "# Define preprocessing steps for numerical and categorical features\n",
    "numeric_transformer = Pipeline(steps=[\n",
    "    ('imputer', SimpleImputer(strategy='mean')),\n",
    "    ('scaler', StandardScaler())\n",
    "])\n",
    "\n",
    "categorical_transformer = Pipeline(steps=[\n",
    "    ('imputer', SimpleImputer(strategy='most_frequent')),\n",
    "    ('onehot', OneHotEncoder(handle_unknown='ignore'))\n",
    "])\n",
    "\n",
    "# Combine preprocessing steps for numerical and categorical features\n",
    "preprocessor = ColumnTransformer(\n",
    "    transformers=[\n",
    "        ('num', numeric_transformer, numeric_features),\n",
    "        ('cat', categorical_transformer, categorical_features)\n",
    "    ])\n",
    "\n",
    "# Define the model\n",
    "model = Pipeline(steps=[('preprocessor', preprocessor),\n",
    "                        ('feature_selection', SelectKBest(score_func=f_regression, k=5)),\n",
    "                        ('regressor', RandomForestRegressor())])\n",
    "\n",
    "# Train the model\n",
    "model.fit(X, y)\n",
    "\n",
    "# Save the trained model to a file\n",
    "joblib.dump(model, 'model.pkl')\n",
    "\n",
    "# Take user input for prediction\n",
    "passenger_count = int(input(\"Enter the number of passengers: \"))\n",
    "trip_distance = float(input(\"Enter the trip distance: \"))\n",
    "pickup_latitude = float(input(\"Enter the pickup latitude: \"))\n",
    "pickup_longitude = float(input(\"Enter the pickup longitude: \"))\n",
    "dropoff_latitude = float(input(\"Enter the dropoff latitude: \"))\n",
    "dropoff_longitude = float(input(\"Enter the dropoff longitude: \"))\n",
    "\n",
    "# Make predictions on new data\n",
    "new_data = pd.DataFrame({\n",
    "    'passenger_count': [passenger_count],\n",
    "    'trip_distance': [trip_distance],\n",
    "    'pickup_latitude': [pickup_latitude],\n",
    "    'pickup_longitude': [pickup_longitude],\n",
    "    'dropoff_latitude': [dropoff_latitude],\n",
    "    'dropoff_longitude': [dropoff_longitude]\n",
    "})\n",
    "\n",
    "# Predict trip fare\n",
    "predicted_fare = model.predict(new_data)\n",
    "print(\"Predicted Trip Fare:\", (predicted_fare)*80)\n"
   ]
  }
 ],
 "metadata": {
  "kernelspec": {
   "display_name": "Python 3",
   "language": "python",
   "name": "python3"
  },
  "language_info": {
   "codemirror_mode": {
    "name": "ipython",
    "version": 3
   },
   "file_extension": ".py",
   "mimetype": "text/x-python",
   "name": "python",
   "nbconvert_exporter": "python",
   "pygments_lexer": "ipython3",
   "version": "3.10.6"
  }
 },
 "nbformat": 4,
 "nbformat_minor": 2
}
